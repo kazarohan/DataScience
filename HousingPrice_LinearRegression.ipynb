{
  "nbformat": 4,
  "nbformat_minor": 0,
  "metadata": {
    "colab": {
      "name": "Untitled4.ipynb",
      "provenance": [],
      "authorship_tag": "ABX9TyM1wHGI+k4U5eT3HE9FyQ9i",
      "include_colab_link": true
    },
    "kernelspec": {
      "name": "python3",
      "display_name": "Python 3"
    }
  },
  "cells": [
    {
      "cell_type": "markdown",
      "metadata": {
        "id": "view-in-github",
        "colab_type": "text"
      },
      "source": [
        "<a href=\"https://colab.research.google.com/github/kazarohan/DataScience/blob/master/HousingPrice_LinearRegression.ipynb\" target=\"_parent\"><img src=\"https://colab.research.google.com/assets/colab-badge.svg\" alt=\"Open In Colab\"/></a>"
      ]
    },
    {
      "cell_type": "code",
      "metadata": {
        "id": "mgIl0GfArYlB"
      },
      "source": [
        "import numpy as np \n",
        "import pandas as pd \n",
        "import matplotlib.pyplot as plt    "
      ],
      "execution_count": 1,
      "outputs": []
    },
    {
      "cell_type": "code",
      "metadata": {
        "id": "KkfnGC_Mrirb"
      },
      "source": [
        "# Importing Data \n",
        "from sklearn.datasets import load_boston \n",
        "boston = load_boston() "
      ],
      "execution_count": 2,
      "outputs": []
    },
    {
      "cell_type": "code",
      "metadata": {
        "id": "nvbw7z2Yrqdn",
        "outputId": "576a9980-c51b-4d86-f65b-8041ca5c3460",
        "colab": {
          "base_uri": "https://localhost:8080/",
          "height": 34
        }
      },
      "source": [
        "boston.data.shape "
      ],
      "execution_count": 3,
      "outputs": [
        {
          "output_type": "execute_result",
          "data": {
            "text/plain": [
              "(506, 13)"
            ]
          },
          "metadata": {
            "tags": []
          },
          "execution_count": 3
        }
      ]
    },
    {
      "cell_type": "code",
      "metadata": {
        "id": "4QDzbbBnru7N",
        "outputId": "f0320409-df45-4107-ef0c-80b5256de255",
        "colab": {
          "base_uri": "https://localhost:8080/",
          "height": 51
        }
      },
      "source": [
        "boston.feature_names"
      ],
      "execution_count": 4,
      "outputs": [
        {
          "output_type": "execute_result",
          "data": {
            "text/plain": [
              "array(['CRIM', 'ZN', 'INDUS', 'CHAS', 'NOX', 'RM', 'AGE', 'DIS', 'RAD',\n",
              "       'TAX', 'PTRATIO', 'B', 'LSTAT'], dtype='<U7')"
            ]
          },
          "metadata": {
            "tags": []
          },
          "execution_count": 4
        }
      ]
    },
    {
      "cell_type": "code",
      "metadata": {
        "id": "n77_rFYKr2CH"
      },
      "source": [
        "data = pd.DataFrame(boston.data) \n",
        "data.columns = boston.feature_names "
      ],
      "execution_count": 8,
      "outputs": []
    },
    {
      "cell_type": "code",
      "metadata": {
        "id": "HytaMb8ZsKpW",
        "outputId": "aa54b400-517c-409f-8aad-04040f8b70ad",
        "colab": {
          "base_uri": "https://localhost:8080/",
          "height": 34
        }
      },
      "source": [
        "boston.target.shape \n"
      ],
      "execution_count": 9,
      "outputs": [
        {
          "output_type": "execute_result",
          "data": {
            "text/plain": [
              "(506,)"
            ]
          },
          "metadata": {
            "tags": []
          },
          "execution_count": 9
        }
      ]
    },
    {
      "cell_type": "code",
      "metadata": {
        "id": "X2h1W8ojsSgn",
        "outputId": "bab6aae5-f1a0-4df8-808a-434915b31df4",
        "colab": {
          "base_uri": "https://localhost:8080/",
          "height": 799
        }
      },
      "source": [
        "boston.target"
      ],
      "execution_count": 10,
      "outputs": [
        {
          "output_type": "execute_result",
          "data": {
            "text/plain": [
              "array([24. , 21.6, 34.7, 33.4, 36.2, 28.7, 22.9, 27.1, 16.5, 18.9, 15. ,\n",
              "       18.9, 21.7, 20.4, 18.2, 19.9, 23.1, 17.5, 20.2, 18.2, 13.6, 19.6,\n",
              "       15.2, 14.5, 15.6, 13.9, 16.6, 14.8, 18.4, 21. , 12.7, 14.5, 13.2,\n",
              "       13.1, 13.5, 18.9, 20. , 21. , 24.7, 30.8, 34.9, 26.6, 25.3, 24.7,\n",
              "       21.2, 19.3, 20. , 16.6, 14.4, 19.4, 19.7, 20.5, 25. , 23.4, 18.9,\n",
              "       35.4, 24.7, 31.6, 23.3, 19.6, 18.7, 16. , 22.2, 25. , 33. , 23.5,\n",
              "       19.4, 22. , 17.4, 20.9, 24.2, 21.7, 22.8, 23.4, 24.1, 21.4, 20. ,\n",
              "       20.8, 21.2, 20.3, 28. , 23.9, 24.8, 22.9, 23.9, 26.6, 22.5, 22.2,\n",
              "       23.6, 28.7, 22.6, 22. , 22.9, 25. , 20.6, 28.4, 21.4, 38.7, 43.8,\n",
              "       33.2, 27.5, 26.5, 18.6, 19.3, 20.1, 19.5, 19.5, 20.4, 19.8, 19.4,\n",
              "       21.7, 22.8, 18.8, 18.7, 18.5, 18.3, 21.2, 19.2, 20.4, 19.3, 22. ,\n",
              "       20.3, 20.5, 17.3, 18.8, 21.4, 15.7, 16.2, 18. , 14.3, 19.2, 19.6,\n",
              "       23. , 18.4, 15.6, 18.1, 17.4, 17.1, 13.3, 17.8, 14. , 14.4, 13.4,\n",
              "       15.6, 11.8, 13.8, 15.6, 14.6, 17.8, 15.4, 21.5, 19.6, 15.3, 19.4,\n",
              "       17. , 15.6, 13.1, 41.3, 24.3, 23.3, 27. , 50. , 50. , 50. , 22.7,\n",
              "       25. , 50. , 23.8, 23.8, 22.3, 17.4, 19.1, 23.1, 23.6, 22.6, 29.4,\n",
              "       23.2, 24.6, 29.9, 37.2, 39.8, 36.2, 37.9, 32.5, 26.4, 29.6, 50. ,\n",
              "       32. , 29.8, 34.9, 37. , 30.5, 36.4, 31.1, 29.1, 50. , 33.3, 30.3,\n",
              "       34.6, 34.9, 32.9, 24.1, 42.3, 48.5, 50. , 22.6, 24.4, 22.5, 24.4,\n",
              "       20. , 21.7, 19.3, 22.4, 28.1, 23.7, 25. , 23.3, 28.7, 21.5, 23. ,\n",
              "       26.7, 21.7, 27.5, 30.1, 44.8, 50. , 37.6, 31.6, 46.7, 31.5, 24.3,\n",
              "       31.7, 41.7, 48.3, 29. , 24. , 25.1, 31.5, 23.7, 23.3, 22. , 20.1,\n",
              "       22.2, 23.7, 17.6, 18.5, 24.3, 20.5, 24.5, 26.2, 24.4, 24.8, 29.6,\n",
              "       42.8, 21.9, 20.9, 44. , 50. , 36. , 30.1, 33.8, 43.1, 48.8, 31. ,\n",
              "       36.5, 22.8, 30.7, 50. , 43.5, 20.7, 21.1, 25.2, 24.4, 35.2, 32.4,\n",
              "       32. , 33.2, 33.1, 29.1, 35.1, 45.4, 35.4, 46. , 50. , 32.2, 22. ,\n",
              "       20.1, 23.2, 22.3, 24.8, 28.5, 37.3, 27.9, 23.9, 21.7, 28.6, 27.1,\n",
              "       20.3, 22.5, 29. , 24.8, 22. , 26.4, 33.1, 36.1, 28.4, 33.4, 28.2,\n",
              "       22.8, 20.3, 16.1, 22.1, 19.4, 21.6, 23.8, 16.2, 17.8, 19.8, 23.1,\n",
              "       21. , 23.8, 23.1, 20.4, 18.5, 25. , 24.6, 23. , 22.2, 19.3, 22.6,\n",
              "       19.8, 17.1, 19.4, 22.2, 20.7, 21.1, 19.5, 18.5, 20.6, 19. , 18.7,\n",
              "       32.7, 16.5, 23.9, 31.2, 17.5, 17.2, 23.1, 24.5, 26.6, 22.9, 24.1,\n",
              "       18.6, 30.1, 18.2, 20.6, 17.8, 21.7, 22.7, 22.6, 25. , 19.9, 20.8,\n",
              "       16.8, 21.9, 27.5, 21.9, 23.1, 50. , 50. , 50. , 50. , 50. , 13.8,\n",
              "       13.8, 15. , 13.9, 13.3, 13.1, 10.2, 10.4, 10.9, 11.3, 12.3,  8.8,\n",
              "        7.2, 10.5,  7.4, 10.2, 11.5, 15.1, 23.2,  9.7, 13.8, 12.7, 13.1,\n",
              "       12.5,  8.5,  5. ,  6.3,  5.6,  7.2, 12.1,  8.3,  8.5,  5. , 11.9,\n",
              "       27.9, 17.2, 27.5, 15. , 17.2, 17.9, 16.3,  7. ,  7.2,  7.5, 10.4,\n",
              "        8.8,  8.4, 16.7, 14.2, 20.8, 13.4, 11.7,  8.3, 10.2, 10.9, 11. ,\n",
              "        9.5, 14.5, 14.1, 16.1, 14.3, 11.7, 13.4,  9.6,  8.7,  8.4, 12.8,\n",
              "       10.5, 17.1, 18.4, 15.4, 10.8, 11.8, 14.9, 12.6, 14.1, 13. , 13.4,\n",
              "       15.2, 16.1, 17.8, 14.9, 14.1, 12.7, 13.5, 14.9, 20. , 16.4, 17.7,\n",
              "       19.5, 20.2, 21.4, 19.9, 19. , 19.1, 19.1, 20.1, 19.9, 19.6, 23.2,\n",
              "       29.8, 13.8, 13.3, 16.7, 12. , 14.6, 21.4, 23. , 23.7, 25. , 21.8,\n",
              "       20.6, 21.2, 19.1, 20.6, 15.2,  7. ,  8.1, 13.6, 20.1, 21.8, 24.5,\n",
              "       23.1, 19.7, 18.3, 21.2, 17.5, 16.8, 22.4, 20.6, 23.9, 22. , 11.9])"
            ]
          },
          "metadata": {
            "tags": []
          },
          "execution_count": 10
        }
      ]
    },
    {
      "cell_type": "code",
      "metadata": {
        "id": "Vu-6_oPwsOc_",
        "outputId": "d9925f96-744a-438d-ddbd-e26179be9c8b",
        "colab": {
          "base_uri": "https://localhost:8080/",
          "height": 204
        }
      },
      "source": [
        "data['Price'] = boston.target \n",
        "data.head() "
      ],
      "execution_count": 11,
      "outputs": [
        {
          "output_type": "execute_result",
          "data": {
            "text/html": [
              "<div>\n",
              "<style scoped>\n",
              "    .dataframe tbody tr th:only-of-type {\n",
              "        vertical-align: middle;\n",
              "    }\n",
              "\n",
              "    .dataframe tbody tr th {\n",
              "        vertical-align: top;\n",
              "    }\n",
              "\n",
              "    .dataframe thead th {\n",
              "        text-align: right;\n",
              "    }\n",
              "</style>\n",
              "<table border=\"1\" class=\"dataframe\">\n",
              "  <thead>\n",
              "    <tr style=\"text-align: right;\">\n",
              "      <th></th>\n",
              "      <th>CRIM</th>\n",
              "      <th>ZN</th>\n",
              "      <th>INDUS</th>\n",
              "      <th>CHAS</th>\n",
              "      <th>NOX</th>\n",
              "      <th>RM</th>\n",
              "      <th>AGE</th>\n",
              "      <th>DIS</th>\n",
              "      <th>RAD</th>\n",
              "      <th>TAX</th>\n",
              "      <th>PTRATIO</th>\n",
              "      <th>B</th>\n",
              "      <th>LSTAT</th>\n",
              "      <th>Price</th>\n",
              "    </tr>\n",
              "  </thead>\n",
              "  <tbody>\n",
              "    <tr>\n",
              "      <th>0</th>\n",
              "      <td>0.00632</td>\n",
              "      <td>18.0</td>\n",
              "      <td>2.31</td>\n",
              "      <td>0.0</td>\n",
              "      <td>0.538</td>\n",
              "      <td>6.575</td>\n",
              "      <td>65.2</td>\n",
              "      <td>4.0900</td>\n",
              "      <td>1.0</td>\n",
              "      <td>296.0</td>\n",
              "      <td>15.3</td>\n",
              "      <td>396.90</td>\n",
              "      <td>4.98</td>\n",
              "      <td>24.0</td>\n",
              "    </tr>\n",
              "    <tr>\n",
              "      <th>1</th>\n",
              "      <td>0.02731</td>\n",
              "      <td>0.0</td>\n",
              "      <td>7.07</td>\n",
              "      <td>0.0</td>\n",
              "      <td>0.469</td>\n",
              "      <td>6.421</td>\n",
              "      <td>78.9</td>\n",
              "      <td>4.9671</td>\n",
              "      <td>2.0</td>\n",
              "      <td>242.0</td>\n",
              "      <td>17.8</td>\n",
              "      <td>396.90</td>\n",
              "      <td>9.14</td>\n",
              "      <td>21.6</td>\n",
              "    </tr>\n",
              "    <tr>\n",
              "      <th>2</th>\n",
              "      <td>0.02729</td>\n",
              "      <td>0.0</td>\n",
              "      <td>7.07</td>\n",
              "      <td>0.0</td>\n",
              "      <td>0.469</td>\n",
              "      <td>7.185</td>\n",
              "      <td>61.1</td>\n",
              "      <td>4.9671</td>\n",
              "      <td>2.0</td>\n",
              "      <td>242.0</td>\n",
              "      <td>17.8</td>\n",
              "      <td>392.83</td>\n",
              "      <td>4.03</td>\n",
              "      <td>34.7</td>\n",
              "    </tr>\n",
              "    <tr>\n",
              "      <th>3</th>\n",
              "      <td>0.03237</td>\n",
              "      <td>0.0</td>\n",
              "      <td>2.18</td>\n",
              "      <td>0.0</td>\n",
              "      <td>0.458</td>\n",
              "      <td>6.998</td>\n",
              "      <td>45.8</td>\n",
              "      <td>6.0622</td>\n",
              "      <td>3.0</td>\n",
              "      <td>222.0</td>\n",
              "      <td>18.7</td>\n",
              "      <td>394.63</td>\n",
              "      <td>2.94</td>\n",
              "      <td>33.4</td>\n",
              "    </tr>\n",
              "    <tr>\n",
              "      <th>4</th>\n",
              "      <td>0.06905</td>\n",
              "      <td>0.0</td>\n",
              "      <td>2.18</td>\n",
              "      <td>0.0</td>\n",
              "      <td>0.458</td>\n",
              "      <td>7.147</td>\n",
              "      <td>54.2</td>\n",
              "      <td>6.0622</td>\n",
              "      <td>3.0</td>\n",
              "      <td>222.0</td>\n",
              "      <td>18.7</td>\n",
              "      <td>396.90</td>\n",
              "      <td>5.33</td>\n",
              "      <td>36.2</td>\n",
              "    </tr>\n",
              "  </tbody>\n",
              "</table>\n",
              "</div>"
            ],
            "text/plain": [
              "      CRIM    ZN  INDUS  CHAS    NOX  ...    TAX  PTRATIO       B  LSTAT  Price\n",
              "0  0.00632  18.0   2.31   0.0  0.538  ...  296.0     15.3  396.90   4.98   24.0\n",
              "1  0.02731   0.0   7.07   0.0  0.469  ...  242.0     17.8  396.90   9.14   21.6\n",
              "2  0.02729   0.0   7.07   0.0  0.469  ...  242.0     17.8  392.83   4.03   34.7\n",
              "3  0.03237   0.0   2.18   0.0  0.458  ...  222.0     18.7  394.63   2.94   33.4\n",
              "4  0.06905   0.0   2.18   0.0  0.458  ...  222.0     18.7  396.90   5.33   36.2\n",
              "\n",
              "[5 rows x 14 columns]"
            ]
          },
          "metadata": {
            "tags": []
          },
          "execution_count": 11
        }
      ]
    },
    {
      "cell_type": "code",
      "metadata": {
        "id": "JveedvDesY8d",
        "outputId": "717eedc2-3c29-4f45-ce4d-2784d5424d41",
        "colab": {
          "base_uri": "https://localhost:8080/",
          "height": 317
        }
      },
      "source": [
        "data.describe() \n"
      ],
      "execution_count": 12,
      "outputs": [
        {
          "output_type": "execute_result",
          "data": {
            "text/html": [
              "<div>\n",
              "<style scoped>\n",
              "    .dataframe tbody tr th:only-of-type {\n",
              "        vertical-align: middle;\n",
              "    }\n",
              "\n",
              "    .dataframe tbody tr th {\n",
              "        vertical-align: top;\n",
              "    }\n",
              "\n",
              "    .dataframe thead th {\n",
              "        text-align: right;\n",
              "    }\n",
              "</style>\n",
              "<table border=\"1\" class=\"dataframe\">\n",
              "  <thead>\n",
              "    <tr style=\"text-align: right;\">\n",
              "      <th></th>\n",
              "      <th>CRIM</th>\n",
              "      <th>ZN</th>\n",
              "      <th>INDUS</th>\n",
              "      <th>CHAS</th>\n",
              "      <th>NOX</th>\n",
              "      <th>RM</th>\n",
              "      <th>AGE</th>\n",
              "      <th>DIS</th>\n",
              "      <th>RAD</th>\n",
              "      <th>TAX</th>\n",
              "      <th>PTRATIO</th>\n",
              "      <th>B</th>\n",
              "      <th>LSTAT</th>\n",
              "      <th>Price</th>\n",
              "    </tr>\n",
              "  </thead>\n",
              "  <tbody>\n",
              "    <tr>\n",
              "      <th>count</th>\n",
              "      <td>506.000000</td>\n",
              "      <td>506.000000</td>\n",
              "      <td>506.000000</td>\n",
              "      <td>506.000000</td>\n",
              "      <td>506.000000</td>\n",
              "      <td>506.000000</td>\n",
              "      <td>506.000000</td>\n",
              "      <td>506.000000</td>\n",
              "      <td>506.000000</td>\n",
              "      <td>506.000000</td>\n",
              "      <td>506.000000</td>\n",
              "      <td>506.000000</td>\n",
              "      <td>506.000000</td>\n",
              "      <td>506.000000</td>\n",
              "    </tr>\n",
              "    <tr>\n",
              "      <th>mean</th>\n",
              "      <td>3.613524</td>\n",
              "      <td>11.363636</td>\n",
              "      <td>11.136779</td>\n",
              "      <td>0.069170</td>\n",
              "      <td>0.554695</td>\n",
              "      <td>6.284634</td>\n",
              "      <td>68.574901</td>\n",
              "      <td>3.795043</td>\n",
              "      <td>9.549407</td>\n",
              "      <td>408.237154</td>\n",
              "      <td>18.455534</td>\n",
              "      <td>356.674032</td>\n",
              "      <td>12.653063</td>\n",
              "      <td>22.532806</td>\n",
              "    </tr>\n",
              "    <tr>\n",
              "      <th>std</th>\n",
              "      <td>8.601545</td>\n",
              "      <td>23.322453</td>\n",
              "      <td>6.860353</td>\n",
              "      <td>0.253994</td>\n",
              "      <td>0.115878</td>\n",
              "      <td>0.702617</td>\n",
              "      <td>28.148861</td>\n",
              "      <td>2.105710</td>\n",
              "      <td>8.707259</td>\n",
              "      <td>168.537116</td>\n",
              "      <td>2.164946</td>\n",
              "      <td>91.294864</td>\n",
              "      <td>7.141062</td>\n",
              "      <td>9.197104</td>\n",
              "    </tr>\n",
              "    <tr>\n",
              "      <th>min</th>\n",
              "      <td>0.006320</td>\n",
              "      <td>0.000000</td>\n",
              "      <td>0.460000</td>\n",
              "      <td>0.000000</td>\n",
              "      <td>0.385000</td>\n",
              "      <td>3.561000</td>\n",
              "      <td>2.900000</td>\n",
              "      <td>1.129600</td>\n",
              "      <td>1.000000</td>\n",
              "      <td>187.000000</td>\n",
              "      <td>12.600000</td>\n",
              "      <td>0.320000</td>\n",
              "      <td>1.730000</td>\n",
              "      <td>5.000000</td>\n",
              "    </tr>\n",
              "    <tr>\n",
              "      <th>25%</th>\n",
              "      <td>0.082045</td>\n",
              "      <td>0.000000</td>\n",
              "      <td>5.190000</td>\n",
              "      <td>0.000000</td>\n",
              "      <td>0.449000</td>\n",
              "      <td>5.885500</td>\n",
              "      <td>45.025000</td>\n",
              "      <td>2.100175</td>\n",
              "      <td>4.000000</td>\n",
              "      <td>279.000000</td>\n",
              "      <td>17.400000</td>\n",
              "      <td>375.377500</td>\n",
              "      <td>6.950000</td>\n",
              "      <td>17.025000</td>\n",
              "    </tr>\n",
              "    <tr>\n",
              "      <th>50%</th>\n",
              "      <td>0.256510</td>\n",
              "      <td>0.000000</td>\n",
              "      <td>9.690000</td>\n",
              "      <td>0.000000</td>\n",
              "      <td>0.538000</td>\n",
              "      <td>6.208500</td>\n",
              "      <td>77.500000</td>\n",
              "      <td>3.207450</td>\n",
              "      <td>5.000000</td>\n",
              "      <td>330.000000</td>\n",
              "      <td>19.050000</td>\n",
              "      <td>391.440000</td>\n",
              "      <td>11.360000</td>\n",
              "      <td>21.200000</td>\n",
              "    </tr>\n",
              "    <tr>\n",
              "      <th>75%</th>\n",
              "      <td>3.677083</td>\n",
              "      <td>12.500000</td>\n",
              "      <td>18.100000</td>\n",
              "      <td>0.000000</td>\n",
              "      <td>0.624000</td>\n",
              "      <td>6.623500</td>\n",
              "      <td>94.075000</td>\n",
              "      <td>5.188425</td>\n",
              "      <td>24.000000</td>\n",
              "      <td>666.000000</td>\n",
              "      <td>20.200000</td>\n",
              "      <td>396.225000</td>\n",
              "      <td>16.955000</td>\n",
              "      <td>25.000000</td>\n",
              "    </tr>\n",
              "    <tr>\n",
              "      <th>max</th>\n",
              "      <td>88.976200</td>\n",
              "      <td>100.000000</td>\n",
              "      <td>27.740000</td>\n",
              "      <td>1.000000</td>\n",
              "      <td>0.871000</td>\n",
              "      <td>8.780000</td>\n",
              "      <td>100.000000</td>\n",
              "      <td>12.126500</td>\n",
              "      <td>24.000000</td>\n",
              "      <td>711.000000</td>\n",
              "      <td>22.000000</td>\n",
              "      <td>396.900000</td>\n",
              "      <td>37.970000</td>\n",
              "      <td>50.000000</td>\n",
              "    </tr>\n",
              "  </tbody>\n",
              "</table>\n",
              "</div>"
            ],
            "text/plain": [
              "             CRIM          ZN       INDUS  ...           B       LSTAT       Price\n",
              "count  506.000000  506.000000  506.000000  ...  506.000000  506.000000  506.000000\n",
              "mean     3.613524   11.363636   11.136779  ...  356.674032   12.653063   22.532806\n",
              "std      8.601545   23.322453    6.860353  ...   91.294864    7.141062    9.197104\n",
              "min      0.006320    0.000000    0.460000  ...    0.320000    1.730000    5.000000\n",
              "25%      0.082045    0.000000    5.190000  ...  375.377500    6.950000   17.025000\n",
              "50%      0.256510    0.000000    9.690000  ...  391.440000   11.360000   21.200000\n",
              "75%      3.677083   12.500000   18.100000  ...  396.225000   16.955000   25.000000\n",
              "max     88.976200  100.000000   27.740000  ...  396.900000   37.970000   50.000000\n",
              "\n",
              "[8 rows x 14 columns]"
            ]
          },
          "metadata": {
            "tags": []
          },
          "execution_count": 12
        }
      ]
    },
    {
      "cell_type": "code",
      "metadata": {
        "id": "Nd3dUVmNsgaV"
      },
      "source": [
        "# Input Data \n",
        "x = boston.data \n",
        " "
      ],
      "execution_count": 13,
      "outputs": []
    },
    {
      "cell_type": "code",
      "metadata": {
        "id": "sw5z-ed9sj3P"
      },
      "source": [
        "  \n",
        "# Output Data \n",
        "y = boston.target \n",
        "   \n"
      ],
      "execution_count": 14,
      "outputs": []
    },
    {
      "cell_type": "code",
      "metadata": {
        "id": "zrKfMP-csmlv"
      },
      "source": [
        "   \n",
        "# splitting data to training and testing dataset.  \n",
        "from sklearn.model_selection import train_test_split \n",
        "xtrain, xtest, ytrain, ytest = train_test_split(x, y, test_size =0.2, \n",
        "                                                    random_state = 0) \n",
        "  "
      ],
      "execution_count": 19,
      "outputs": []
    },
    {
      "cell_type": "code",
      "metadata": {
        "id": "qtblAzkksq-e",
        "outputId": "bb566264-e540-4abc-ec46-2ffa17d3561b",
        "colab": {
          "base_uri": "https://localhost:8080/",
          "height": 85
        }
      },
      "source": [
        "print(\"xtrain shape : \", xtrain.shape) \n",
        "print(\"xtest shape  : \", xtest.shape) \n",
        "print(\"ytrain shape : \", ytrain.shape) \n",
        "print(\"ytest shape  : \", ytest.shape) "
      ],
      "execution_count": 20,
      "outputs": [
        {
          "output_type": "stream",
          "text": [
            "xtrain shape :  (404, 13)\n",
            "xtest shape  :  (102, 13)\n",
            "ytrain shape :  (404,)\n",
            "ytest shape  :  (102,)\n"
          ],
          "name": "stdout"
        }
      ]
    },
    {
      "cell_type": "code",
      "metadata": {
        "id": "Rl7zZbsGt2Go",
        "outputId": "9632c93e-2dc9-437a-e5d0-b1fdb4866c81",
        "colab": {
          "base_uri": "https://localhost:8080/",
          "height": 34
        }
      },
      "source": [
        "from sklearn.linear_model import LinearRegression \n",
        "regressor = LinearRegression() \n",
        "regressor.fit(xtrain, ytrain) \n",
        "   \n"
      ],
      "execution_count": 21,
      "outputs": [
        {
          "output_type": "execute_result",
          "data": {
            "text/plain": [
              "LinearRegression(copy_X=True, fit_intercept=True, n_jobs=None, normalize=False)"
            ]
          },
          "metadata": {
            "tags": []
          },
          "execution_count": 21
        }
      ]
    },
    {
      "cell_type": "code",
      "metadata": {
        "id": "5ZONcmwEt3lD"
      },
      "source": [
        "# predicting the test set results \n",
        "y_pred = regressor.predict(xtest) "
      ],
      "execution_count": 22,
      "outputs": []
    },
    {
      "cell_type": "code",
      "metadata": {
        "id": "X-8uyjc9t4Ue",
        "outputId": "85b2a7c8-f012-40a2-9748-127f4fb08671",
        "colab": {
          "base_uri": "https://localhost:8080/",
          "height": 295
        }
      },
      "source": [
        "# Plotting Scatter graph to show the prediction  \n",
        "# results - 'ytrue' value vs 'y_pred' value \n",
        "plt.scatter(ytest, y_pred, c = 'green') \n",
        "plt.xlabel(\"Price: in $1000's\") \n",
        "plt.ylabel(\"Predicted value\") \n",
        "plt.title(\"True value vs predicted value : Linear Regression\") \n",
        "plt.show() "
      ],
      "execution_count": 23,
      "outputs": [
        {
          "output_type": "display_data",
          "data": {
            "image/png": "[encoded data removed]",
            "text/plain": [
              "<Figure size 432x288 with 1 Axes>"
            ]
          },
          "metadata": {
            "tags": [],
            "needs_background": "light"
          }
        }
      ]
    },
    {
      "cell_type": "code",
      "metadata": {
        "id": "1XCiEBcyt9NY",
        "outputId": "bbd3e405-c64d-4aa3-d4a4-d0064029a3b6",
        "colab": {
          "base_uri": "https://localhost:8080/",
          "height": 34
        }
      },
      "source": [
        "# Results of Linear Regression. \n",
        "from sklearn.metrics import mean_squared_error \n",
        "mse = mean_squared_error(ytest, y_pred) \n",
        "print(\"Mean Square Error : \", mse) "
      ],
      "execution_count": 24,
      "outputs": [
        {
          "output_type": "stream",
          "text": [
            "Mean Square Error :  33.448979997676496\n"
          ],
          "name": "stdout"
        }
      ]
    },
    {
      "cell_type": "markdown",
      "metadata": {
        "id": "p1Jt92-nuGyR"
      },
      "source": [
        "![image.png](data:image/png;base64,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)"
      ]
    },
    {
      "cell_type": "markdown",
      "metadata": {
        "id": "ZCjMMf4YuB6P"
      },
      "source": [
        "As per the result our model is only 66.55% accurate. So, the prepared model is not very good for predicting the housing prices. One can improve the prediction results using many other possible machine learning algorithms and techniques."
      ]
    }
  ]
}