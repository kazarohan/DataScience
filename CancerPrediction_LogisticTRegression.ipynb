{
  "nbformat": 4,
  "nbformat_minor": 0,
  "metadata": {
    "colab": {
      "name": "Untitled5.ipynb",
      "provenance": [],
      "authorship_tag": "ABX9TyPra7fI23soL3cv843e1W2W",
      "include_colab_link": true
    },
    "kernelspec": {
      "name": "python3",
      "display_name": "Python 3"
    }
  },
  "cells": [
    {
      "cell_type": "markdown",
      "metadata": {
        "id": "view-in-github",
        "colab_type": "text"
      },
      "source": [
        "<a href=\"https://colab.research.google.com/github/kazarohan/DataScience/blob/master/CancerPrediction_LogisticTRegression.ipynb\" target=\"_parent\"><img src=\"https://colab.research.google.com/assets/colab-badge.svg\" alt=\"Open In Colab\"/></a>"
      ]
    },
    {
      "cell_type": "code",
      "metadata": {
        "id": "r4Jv88sxbMyL"
      },
      "source": [
        "\n",
        "# performing linear algebra \n",
        "import numpy as np  \n",
        "  \n",
        "# data processing \n",
        "import pandas as pd \n",
        "  \n",
        "# visualisation \n",
        "import matplotlib.pyplot as plt "
      ],
      "execution_count": 25,
      "outputs": []
    },
    {
      "cell_type": "code",
      "metadata": {
        "id": "-DxWqE_icaPp",
        "outputId": "ec18f1f1-7629-46c6-f41e-51131ea50200",
        "colab": {
          "base_uri": "https://localhost:8080/",
          "height": 255
        }
      },
      "source": [
        "data = pd.read_csv(\"data.csv\") \n",
        "  \n",
        "print (data.head) "
      ],
      "execution_count": 26,
      "outputs": [
        {
          "output_type": "stream",
          "text": [
            "<bound method NDFrame.head of            id diagnosis  ...  fractal_dimension_worst  Unnamed: 32\n",
            "0      842302         M  ...                  0.11890          NaN\n",
            "1      842517         M  ...                  0.08902          NaN\n",
            "2    84300903         M  ...                  0.08758          NaN\n",
            "3    84348301         M  ...                  0.17300          NaN\n",
            "4    84358402         M  ...                  0.07678          NaN\n",
            "..        ...       ...  ...                      ...          ...\n",
            "564    926424         M  ...                  0.07115          NaN\n",
            "565    926682         M  ...                  0.06637          NaN\n",
            "566    926954         M  ...                  0.07820          NaN\n",
            "567    927241         M  ...                  0.12400          NaN\n",
            "568     92751         B  ...                  0.07039          NaN\n",
            "\n",
            "[569 rows x 33 columns]>\n"
          ],
          "name": "stdout"
        }
      ]
    },
    {
      "cell_type": "code",
      "metadata": {
        "id": "huNTF0pAc7ng"
      },
      "source": [
        "data.drop(['Unnamed: 32', 'id'], axis = 1) \n",
        "data.diagnosis = [1 if each == \"M\" else 0 for each in data.diagnosis] \n"
      ],
      "execution_count": 27,
      "outputs": []
    },
    {
      "cell_type": "code",
      "metadata": {
        "id": "hnoVPoPBd1NA",
        "outputId": "c3363e89-3e3d-45d4-b778-a063928e04f9",
        "colab": {
          "base_uri": "https://localhost:8080/",
          "height": 117
        }
      },
      "source": [
        "data.head(n=1)"
      ],
      "execution_count": 28,
      "outputs": [
        {
          "output_type": "execute_result",
          "data": {
            "text/html": [
              "<div>\n",
              "<style scoped>\n",
              "    .dataframe tbody tr th:only-of-type {\n",
              "        vertical-align: middle;\n",
              "    }\n",
              "\n",
              "    .dataframe tbody tr th {\n",
              "        vertical-align: top;\n",
              "    }\n",
              "\n",
              "    .dataframe thead th {\n",
              "        text-align: right;\n",
              "    }\n",
              "</style>\n",
              "<table border=\"1\" class=\"dataframe\">\n",
              "  <thead>\n",
              "    <tr style=\"text-align: right;\">\n",
              "      <th></th>\n",
              "      <th>id</th>\n",
              "      <th>diagnosis</th>\n",
              "      <th>radius_mean</th>\n",
              "      <th>texture_mean</th>\n",
              "      <th>perimeter_mean</th>\n",
              "      <th>area_mean</th>\n",
              "      <th>smoothness_mean</th>\n",
              "      <th>compactness_mean</th>\n",
              "      <th>concavity_mean</th>\n",
              "      <th>concave points_mean</th>\n",
              "      <th>symmetry_mean</th>\n",
              "      <th>fractal_dimension_mean</th>\n",
              "      <th>radius_se</th>\n",
              "      <th>texture_se</th>\n",
              "      <th>perimeter_se</th>\n",
              "      <th>area_se</th>\n",
              "      <th>smoothness_se</th>\n",
              "      <th>compactness_se</th>\n",
              "      <th>concavity_se</th>\n",
              "      <th>concave points_se</th>\n",
              "      <th>symmetry_se</th>\n",
              "      <th>fractal_dimension_se</th>\n",
              "      <th>radius_worst</th>\n",
              "      <th>texture_worst</th>\n",
              "      <th>perimeter_worst</th>\n",
              "      <th>area_worst</th>\n",
              "      <th>smoothness_worst</th>\n",
              "      <th>compactness_worst</th>\n",
              "      <th>concavity_worst</th>\n",
              "      <th>concave points_worst</th>\n",
              "      <th>symmetry_worst</th>\n",
              "      <th>fractal_dimension_worst</th>\n",
              "      <th>Unnamed: 32</th>\n",
              "    </tr>\n",
              "  </thead>\n",
              "  <tbody>\n",
              "    <tr>\n",
              "      <th>0</th>\n",
              "      <td>842302</td>\n",
              "      <td>1</td>\n",
              "      <td>17.99</td>\n",
              "      <td>10.38</td>\n",
              "      <td>122.8</td>\n",
              "      <td>1001.0</td>\n",
              "      <td>0.1184</td>\n",
              "      <td>0.2776</td>\n",
              "      <td>0.3001</td>\n",
              "      <td>0.1471</td>\n",
              "      <td>0.2419</td>\n",
              "      <td>0.07871</td>\n",
              "      <td>1.095</td>\n",
              "      <td>0.9053</td>\n",
              "      <td>8.589</td>\n",
              "      <td>153.4</td>\n",
              "      <td>0.006399</td>\n",
              "      <td>0.04904</td>\n",
              "      <td>0.05373</td>\n",
              "      <td>0.01587</td>\n",
              "      <td>0.03003</td>\n",
              "      <td>0.006193</td>\n",
              "      <td>25.38</td>\n",
              "      <td>17.33</td>\n",
              "      <td>184.6</td>\n",
              "      <td>2019.0</td>\n",
              "      <td>0.1622</td>\n",
              "      <td>0.6656</td>\n",
              "      <td>0.7119</td>\n",
              "      <td>0.2654</td>\n",
              "      <td>0.4601</td>\n",
              "      <td>0.1189</td>\n",
              "      <td>NaN</td>\n",
              "    </tr>\n",
              "  </tbody>\n",
              "</table>\n",
              "</div>"
            ],
            "text/plain": [
              "       id  diagnosis  ...  fractal_dimension_worst  Unnamed: 32\n",
              "0  842302          1  ...                   0.1189          NaN\n",
              "\n",
              "[1 rows x 33 columns]"
            ]
          },
          "metadata": {
            "tags": []
          },
          "execution_count": 28
        }
      ]
    },
    {
      "cell_type": "code",
      "metadata": {
        "id": "EQTB3ZwieS-5"
      },
      "source": [
        "y = data.diagnosis.values \n",
        "x_data = data.drop(['diagnosis'], axis = 1) "
      ],
      "execution_count": 29,
      "outputs": []
    },
    {
      "cell_type": "code",
      "metadata": {
        "id": "zozqbvfneA1h"
      },
      "source": [
        "x = (x_data - np.min(x_data))/(np.max(x_data) - np.min(x_data)).values \n"
      ],
      "execution_count": 30,
      "outputs": []
    },
    {
      "cell_type": "code",
      "metadata": {
        "id": "uT04vvbjefyp",
        "outputId": "85334ad5-0bd3-4e97-d015-c4acbec6375d",
        "colab": {
          "base_uri": "https://localhost:8080/",
          "height": 85
        }
      },
      "source": [
        "from sklearn.model_selection import train_test_split \n",
        "x_train, x_test, y_train, y_test = train_test_split( \n",
        "\tx, y, test_size = 0.15, random_state = 42) \n",
        "\n",
        "x_train = x_train.T \n",
        "x_test = x_test.T \n",
        "y_train = y_train.T \n",
        "y_test = y_test.T \n",
        "\n",
        "print(\"x train: \", x_train.shape) \n",
        "print(\"x test: \", x_test.shape) \n",
        "print(\"y train: \", y_train.shape) \n",
        "print(\"y test: \", y_test.shape) \n"
      ],
      "execution_count": 31,
      "outputs": [
        {
          "output_type": "stream",
          "text": [
            "x train:  (32, 483)\n",
            "x test:  (32, 86)\n",
            "y train:  (483,)\n",
            "y test:  (86,)\n"
          ],
          "name": "stdout"
        }
      ]
    },
    {
      "cell_type": "markdown",
      "metadata": {
        "id": "VYZrM-1Uh5Q6"
      },
      "source": [
        "Code : Weight and bias\n",
        "\n"
      ]
    },
    {
      "cell_type": "code",
      "metadata": {
        "id": "94n8HrpjenUe"
      },
      "source": [
        "def initialize_weights_and_bias(dimension): \n",
        "    w = np.full((dimension, 1), 0.01) \n",
        "    b = 0.0\n",
        "    return w, b"
      ],
      "execution_count": 32,
      "outputs": []
    },
    {
      "cell_type": "markdown",
      "metadata": {
        "id": "Cf5D2VTtiKFQ"
      },
      "source": [
        "Code : Sigmoid Function – calculating z value."
      ]
    },
    {
      "cell_type": "code",
      "metadata": {
        "id": "Bpr3e7qWiMLD"
      },
      "source": [
        "# z = np.dot(w.T, x_train)+b \n",
        "def sigmoid(z): \n",
        "    y_head = 1/(1 + np.exp(-z)) \n",
        "    return y_head "
      ],
      "execution_count": 34,
      "outputs": []
    },
    {
      "cell_type": "markdown",
      "metadata": {
        "id": "8fes7Iw3iUxp"
      },
      "source": [
        "Code : Forward-Backward Propogation"
      ]
    },
    {
      "cell_type": "code",
      "metadata": {
        "id": "gIRZ-sZRiWCi"
      },
      "source": [
        "def forward_backward_propagation(w, b, x_train, y_train): \n",
        "\tz = np.dot(w.T, x_train) + b \n",
        "\ty_head = sigmoid(z) \n",
        "\tloss = - y_train * np.log(y_head) - (1 - y_train) * np.log(1 - y_head) \n",
        "\t# x_train.shape[1] is for scaling \n",
        "\tcost = (np.sum(loss)) / x_train.shape[1]\t \n",
        "\n",
        "\t# backward propagation \n",
        "\tderivative_weight = (np.dot(x_train, ( \n",
        "\t\t(y_head - y_train).T))) / x_train.shape[1] \n",
        "\tderivative_bias = np.sum( \n",
        "\t\ty_head-y_train) / x_train.shape[1]\t\t\t\t \n",
        "\tgradients = {\"derivative_weight\": derivative_weight, \n",
        "\t\t\t\t\"derivative_bias\": derivative_bias} \n",
        "\treturn cost, gradients "
      ],
      "execution_count": 37,
      "outputs": []
    },
    {
      "cell_type": "markdown",
      "metadata": {
        "id": "Ff-wAQlKibyb"
      },
      "source": [
        "Code : Updating Parameters\n",
        "\n"
      ]
    },
    {
      "cell_type": "code",
      "metadata": {
        "id": "_yjkoV-_iZnA"
      },
      "source": [
        "def update(w, b, x_train, y_train, learning_rate, number_of_iterarion): \n",
        "    cost_list = [] \n",
        "    cost_list2 = [] \n",
        "    index = [] \n",
        "  \n",
        "    # updating(learning) parameters is number_of_iterarion times \n",
        "    for i in range(number_of_iterarion): \n",
        "        # make forward and backward propagation and find cost and gradients \n",
        "        cost, gradients = forward_backward_propagation(w, b, x_train, y_train) \n",
        "        cost_list.append(cost) \n",
        "  \n",
        "        # lets update \n",
        "        w = w - learning_rate * gradients[\"derivative_weight\"] \n",
        "        b = b - learning_rate * gradients[\"derivative_bias\"] \n",
        "        if i % 10 == 0: \n",
        "            cost_list2.append(cost) \n",
        "            index.append(i) \n",
        "            print (\"Cost after iteration % i: % f\" %(i, cost)) \n",
        "  \n",
        "    # update(learn) parameters weights and bias \n",
        "    parameters = {\"weight\": w, \"bias\": b} \n",
        "    plt.plot(index, cost_list2) \n",
        "    plt.xticks(index, rotation ='vertical') \n",
        "    plt.xlabel(\"Number of Iterarion\") \n",
        "    plt.ylabel(\"Cost\") \n",
        "    plt.show() \n",
        "    return parameters, gradients, cost_list \n"
      ],
      "execution_count": 38,
      "outputs": []
    },
    {
      "cell_type": "markdown",
      "metadata": {
        "id": "LC6I0ITFiqbE"
      },
      "source": [
        "Code : Predictions\n",
        "\n"
      ]
    },
    {
      "cell_type": "code",
      "metadata": {
        "id": "aTQjEqbZishz"
      },
      "source": [
        "def predict(w, b, x_test): \n",
        "    # x_test is a input for forward propagation \n",
        "    z = sigmoid(np.dot(w.T, x_test)+b) \n",
        "    Y_prediction = np.zeros((1, x_test.shape[1])) \n",
        "  \n",
        "    # if z is bigger than 0.5, our prediction is sign one (y_head = 1), \n",
        "    # if z is smaller than 0.5, our prediction is sign zero (y_head = 0), \n",
        "    for i in range(z.shape[1]): \n",
        "        if z[0, i]<= 0.5: \n",
        "            Y_prediction[0, i] = 0\n",
        "        else: \n",
        "            Y_prediction[0, i] = 1\n",
        "  \n",
        "    return Y_prediction "
      ],
      "execution_count": 39,
      "outputs": []
    },
    {
      "cell_type": "markdown",
      "metadata": {
        "id": "KO0EgJq9izPr"
      },
      "source": [
        "Code : Logistic Regression\n",
        "\n"
      ]
    },
    {
      "cell_type": "code",
      "metadata": {
        "id": "1n-s4mHmi0QZ",
        "outputId": "8537cdd1-a449-4ee4-a075-34df4bc675f1",
        "colab": {
          "base_uri": "https://localhost:8080/",
          "height": 486
        }
      },
      "source": [
        "def logistic_regression(x_train, y_train, x_test, y_test,  \n",
        "                        learning_rate,  num_iterations): \n",
        "  \n",
        "    dimension = x_train.shape[0] \n",
        "    w, b = initialize_weights_and_bias(dimension) \n",
        "      \n",
        "    parameters, gradients, cost_list = update( \n",
        "        w, b, x_train, y_train, learning_rate, num_iterations) \n",
        "      \n",
        "    y_prediction_test = predict( \n",
        "        parameters[\"weight\"], parameters[\"bias\"], x_test) \n",
        "    y_prediction_train = predict( \n",
        "        parameters[\"weight\"], parameters[\"bias\"], x_train) \n",
        "  \n",
        "    # train / test Errors \n",
        "    print(\"train accuracy: {} %\".format( \n",
        "        100 - np.mean(np.abs(y_prediction_train - y_train)) * 100)) \n",
        "    print(\"test accuracy: {} %\".format( \n",
        "        100 - np.mean(np.abs(y_prediction_test - y_test)) * 100)) \n",
        "      \n",
        "logistic_regression(x_train, y_train, x_test,  \n",
        "                    y_test, learning_rate = 1, num_iterations = 100)  \n"
      ],
      "execution_count": 40,
      "outputs": [
        {
          "output_type": "stream",
          "text": [
            "Cost after iteration  0:  nan\n",
            "Cost after iteration  10:  nan\n",
            "Cost after iteration  20:  nan\n",
            "Cost after iteration  30:  nan\n",
            "Cost after iteration  40:  nan\n",
            "Cost after iteration  50:  nan\n",
            "Cost after iteration  60:  nan\n",
            "Cost after iteration  70:  nan\n",
            "Cost after iteration  80:  nan\n",
            "Cost after iteration  90:  nan\n"
          ],
          "name": "stdout"
        },
        {
          "output_type": "display_data",
          "data": {
            "image/png": "[encoded data removed]",
            "text/plain": [
              "<Figure size 432x288 with 1 Axes>"
            ]
          },
          "metadata": {
            "tags": [],
            "needs_background": "light"
          }
        },
        {
          "output_type": "stream",
          "text": [
            "train accuracy: 37.267080745341616 %\n",
            "test accuracy: 37.2093023255814 %\n"
          ],
          "name": "stdout"
        }
      ]
    },
    {
      "cell_type": "code",
      "metadata": {
        "id": "oZl18pK7jAVK"
      },
      "source": [
        "from sklearn import linear_model \n",
        "logreg = linear_model.LogisticRegression(random_state = 42, max_iter = 150) \n"
      ],
      "execution_count": 1,
      "outputs": []
    },
    {
      "cell_type": "code",
      "metadata": {
        "id": "acTKiKoHlZhj",
        "outputId": "35a57186-baf7-4f4f-84f2-82dcbbc23475",
        "colab": {
          "base_uri": "https://localhost:8080/",
          "height": 163
        }
      },
      "source": [
        "S = logreg.fit(x_train.T, y_train.T)"
      ],
      "execution_count": 2,
      "outputs": [
        {
          "output_type": "error",
          "ename": "NameError",
          "evalue": "ignored",
          "traceback": [
            "\u001b[0;31m---------------------------------------------------------------------------\u001b[0m",
            "\u001b[0;31mNameError\u001b[0m                                 Traceback (most recent call last)",
            "\u001b[0;32m<ipython-input-2-20955d4e92d3>\u001b[0m in \u001b[0;36m<module>\u001b[0;34m()\u001b[0m\n\u001b[0;32m----> 1\u001b[0;31m \u001b[0mS\u001b[0m \u001b[0;34m=\u001b[0m \u001b[0mlogreg\u001b[0m\u001b[0;34m.\u001b[0m\u001b[0mfit\u001b[0m\u001b[0;34m(\u001b[0m\u001b[0mx_train\u001b[0m\u001b[0;34m.\u001b[0m\u001b[0mT\u001b[0m\u001b[0;34m,\u001b[0m \u001b[0my_train\u001b[0m\u001b[0;34m.\u001b[0m\u001b[0mT\u001b[0m\u001b[0;34m)\u001b[0m\u001b[0;34m\u001b[0m\u001b[0;34m\u001b[0m\u001b[0m\n\u001b[0m",
            "\u001b[0;31mNameError\u001b[0m: name 'x_train' is not defined"
          ]
        }
      ]
    },
    {
      "cell_type": "code",
      "metadata": {
        "id": "NdZtVZbDlHH0",
        "outputId": "188e4c33-d1be-4b7c-ef79-37ae8909529a",
        "colab": {
          "base_uri": "https://localhost:8080/",
          "height": 340
        }
      },
      "source": [
        "# print(\"test accuracy: {} \".format( \n",
        "#     logreg.fit(x_train.T, y_train.T).score(x_test.T, y_test.T))) \n",
        "print(\"train accuracy: {} \".format( \n",
        "    logreg.fit(x_train.T, y_train.T).score(x_train.T, y_train.T))) "
      ],
      "execution_count": 45,
      "outputs": [
        {
          "output_type": "error",
          "ename": "ValueError",
          "evalue": "ignored",
          "traceback": [
            "\u001b[0;31m---------------------------------------------------------------------------\u001b[0m",
            "\u001b[0;31mValueError\u001b[0m                                Traceback (most recent call last)",
            "\u001b[0;32m<ipython-input-45-4d067f540760>\u001b[0m in \u001b[0;36m<module>\u001b[0;34m()\u001b[0m\n\u001b[1;32m      2\u001b[0m \u001b[0;31m#     logreg.fit(x_train.T, y_train.T).score(x_test.T, y_test.T)))\u001b[0m\u001b[0;34m\u001b[0m\u001b[0;34m\u001b[0m\u001b[0;34m\u001b[0m\u001b[0m\n\u001b[1;32m      3\u001b[0m print(\"train accuracy: {} \".format( \n\u001b[0;32m----> 4\u001b[0;31m     logreg.fit(x_train.T, y_train.T).score(x_train.T, y_train.T))) \n\u001b[0m",
            "\u001b[0;32m/usr/local/lib/python3.6/dist-packages/sklearn/linear_model/_logistic.py\u001b[0m in \u001b[0;36mfit\u001b[0;34m(self, X, y, sample_weight)\u001b[0m\n\u001b[1;32m   1525\u001b[0m \u001b[0;34m\u001b[0m\u001b[0m\n\u001b[1;32m   1526\u001b[0m         X, y = check_X_y(X, y, accept_sparse='csr', dtype=_dtype, order=\"C\",\n\u001b[0;32m-> 1527\u001b[0;31m                          accept_large_sparse=solver != 'liblinear')\n\u001b[0m\u001b[1;32m   1528\u001b[0m         \u001b[0mcheck_classification_targets\u001b[0m\u001b[0;34m(\u001b[0m\u001b[0my\u001b[0m\u001b[0;34m)\u001b[0m\u001b[0;34m\u001b[0m\u001b[0;34m\u001b[0m\u001b[0m\n\u001b[1;32m   1529\u001b[0m         \u001b[0mself\u001b[0m\u001b[0;34m.\u001b[0m\u001b[0mclasses_\u001b[0m \u001b[0;34m=\u001b[0m \u001b[0mnp\u001b[0m\u001b[0;34m.\u001b[0m\u001b[0munique\u001b[0m\u001b[0;34m(\u001b[0m\u001b[0my\u001b[0m\u001b[0;34m)\u001b[0m\u001b[0;34m\u001b[0m\u001b[0;34m\u001b[0m\u001b[0m\n",
            "\u001b[0;32m/usr/local/lib/python3.6/dist-packages/sklearn/utils/validation.py\u001b[0m in \u001b[0;36mcheck_X_y\u001b[0;34m(X, y, accept_sparse, accept_large_sparse, dtype, order, copy, force_all_finite, ensure_2d, allow_nd, multi_output, ensure_min_samples, ensure_min_features, y_numeric, warn_on_dtype, estimator)\u001b[0m\n\u001b[1;32m    753\u001b[0m                     \u001b[0mensure_min_features\u001b[0m\u001b[0;34m=\u001b[0m\u001b[0mensure_min_features\u001b[0m\u001b[0;34m,\u001b[0m\u001b[0;34m\u001b[0m\u001b[0;34m\u001b[0m\u001b[0m\n\u001b[1;32m    754\u001b[0m                     \u001b[0mwarn_on_dtype\u001b[0m\u001b[0;34m=\u001b[0m\u001b[0mwarn_on_dtype\u001b[0m\u001b[0;34m,\u001b[0m\u001b[0;34m\u001b[0m\u001b[0;34m\u001b[0m\u001b[0m\n\u001b[0;32m--> 755\u001b[0;31m                     estimator=estimator)\n\u001b[0m\u001b[1;32m    756\u001b[0m     \u001b[0;32mif\u001b[0m \u001b[0mmulti_output\u001b[0m\u001b[0;34m:\u001b[0m\u001b[0;34m\u001b[0m\u001b[0;34m\u001b[0m\u001b[0m\n\u001b[1;32m    757\u001b[0m         y = check_array(y, 'csr', force_all_finite=True, ensure_2d=False,\n",
            "\u001b[0;32m/usr/local/lib/python3.6/dist-packages/sklearn/utils/validation.py\u001b[0m in \u001b[0;36mcheck_array\u001b[0;34m(array, accept_sparse, accept_large_sparse, dtype, order, copy, force_all_finite, ensure_2d, allow_nd, ensure_min_samples, ensure_min_features, warn_on_dtype, estimator)\u001b[0m\n\u001b[1;32m    576\u001b[0m         \u001b[0;32mif\u001b[0m \u001b[0mforce_all_finite\u001b[0m\u001b[0;34m:\u001b[0m\u001b[0;34m\u001b[0m\u001b[0;34m\u001b[0m\u001b[0m\n\u001b[1;32m    577\u001b[0m             _assert_all_finite(array,\n\u001b[0;32m--> 578\u001b[0;31m                                allow_nan=force_all_finite == 'allow-nan')\n\u001b[0m\u001b[1;32m    579\u001b[0m \u001b[0;34m\u001b[0m\u001b[0m\n\u001b[1;32m    580\u001b[0m     \u001b[0;32mif\u001b[0m \u001b[0mensure_min_samples\u001b[0m \u001b[0;34m>\u001b[0m \u001b[0;36m0\u001b[0m\u001b[0;34m:\u001b[0m\u001b[0;34m\u001b[0m\u001b[0;34m\u001b[0m\u001b[0m\n",
            "\u001b[0;32m/usr/local/lib/python3.6/dist-packages/sklearn/utils/validation.py\u001b[0m in \u001b[0;36m_assert_all_finite\u001b[0;34m(X, allow_nan, msg_dtype)\u001b[0m\n\u001b[1;32m     58\u001b[0m                     \u001b[0mmsg_err\u001b[0m\u001b[0;34m.\u001b[0m\u001b[0mformat\u001b[0m\u001b[0;34m\u001b[0m\u001b[0;34m\u001b[0m\u001b[0m\n\u001b[1;32m     59\u001b[0m                     (type_err,\n\u001b[0;32m---> 60\u001b[0;31m                      msg_dtype if msg_dtype is not None else X.dtype)\n\u001b[0m\u001b[1;32m     61\u001b[0m             )\n\u001b[1;32m     62\u001b[0m     \u001b[0;31m# for object dtype data, we only check for NaNs (GH-13254)\u001b[0m\u001b[0;34m\u001b[0m\u001b[0;34m\u001b[0m\u001b[0;34m\u001b[0m\u001b[0m\n",
            "\u001b[0;31mValueError\u001b[0m: Input contains NaN, infinity or a value too large for dtype('float64')."
          ]
        }
      ]
    }
  ]
}